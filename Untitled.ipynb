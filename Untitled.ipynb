{
 "cells": [
  {
   "cell_type": "markdown",
   "metadata": {},
   "source": [
    "<h1> US DISASTER DATASET "
   ]
  },
  {
   "cell_type": "code",
   "execution_count": 25,
   "metadata": {
    "collapsed": true
   },
   "outputs": [],
   "source": [
    "import pandas as pd\n",
    "import matplotlib.pyplot as plt\n",
    "import seaborn as sns\n",
    "import numpy as np"
   ]
  },
  {
   "cell_type": "code",
   "execution_count": 26,
   "metadata": {},
   "outputs": [
    {
     "data": {
      "text/html": [
       "<div>\n",
       "<style>\n",
       "    .dataframe thead tr:only-child th {\n",
       "        text-align: right;\n",
       "    }\n",
       "\n",
       "    .dataframe thead th {\n",
       "        text-align: left;\n",
       "    }\n",
       "\n",
       "    .dataframe tbody tr th {\n",
       "        vertical-align: top;\n",
       "    }\n",
       "</style>\n",
       "<table border=\"1\" class=\"dataframe\">\n",
       "  <thead>\n",
       "    <tr style=\"text-align: right;\">\n",
       "      <th></th>\n",
       "      <th>Declaration Number</th>\n",
       "      <th>Declaration Type</th>\n",
       "      <th>Declaration Date</th>\n",
       "      <th>State</th>\n",
       "      <th>County</th>\n",
       "      <th>Disaster Type</th>\n",
       "      <th>Disaster Title</th>\n",
       "      <th>Start Date</th>\n",
       "      <th>End Date</th>\n",
       "      <th>Close Date</th>\n",
       "      <th>Individual Assistance Program</th>\n",
       "      <th>Individuals &amp; Households Program</th>\n",
       "      <th>Public Assistance Program</th>\n",
       "      <th>Hazard Mitigation Program</th>\n",
       "    </tr>\n",
       "  </thead>\n",
       "  <tbody>\n",
       "    <tr>\n",
       "      <th>0</th>\n",
       "      <td>DR-1</td>\n",
       "      <td>Disaster</td>\n",
       "      <td>05/02/1953</td>\n",
       "      <td>GA</td>\n",
       "      <td>NaN</td>\n",
       "      <td>Tornado</td>\n",
       "      <td>Tornado</td>\n",
       "      <td>05/02/1953</td>\n",
       "      <td>05/02/1953</td>\n",
       "      <td>06/01/1954</td>\n",
       "      <td>Yes</td>\n",
       "      <td>No</td>\n",
       "      <td>Yes</td>\n",
       "      <td>Yes</td>\n",
       "    </tr>\n",
       "    <tr>\n",
       "      <th>1</th>\n",
       "      <td>DR-2</td>\n",
       "      <td>Disaster</td>\n",
       "      <td>05/15/1953</td>\n",
       "      <td>TX</td>\n",
       "      <td>NaN</td>\n",
       "      <td>Tornado</td>\n",
       "      <td>Tornado and Heavy Rainfall</td>\n",
       "      <td>05/15/1953</td>\n",
       "      <td>05/15/1953</td>\n",
       "      <td>01/01/1958</td>\n",
       "      <td>Yes</td>\n",
       "      <td>No</td>\n",
       "      <td>Yes</td>\n",
       "      <td>Yes</td>\n",
       "    </tr>\n",
       "    <tr>\n",
       "      <th>2</th>\n",
       "      <td>DR-3</td>\n",
       "      <td>Disaster</td>\n",
       "      <td>05/29/1953</td>\n",
       "      <td>LA</td>\n",
       "      <td>NaN</td>\n",
       "      <td>Flood</td>\n",
       "      <td>Flood</td>\n",
       "      <td>05/29/1953</td>\n",
       "      <td>05/29/1953</td>\n",
       "      <td>02/01/1960</td>\n",
       "      <td>Yes</td>\n",
       "      <td>No</td>\n",
       "      <td>Yes</td>\n",
       "      <td>Yes</td>\n",
       "    </tr>\n",
       "    <tr>\n",
       "      <th>3</th>\n",
       "      <td>DR-4</td>\n",
       "      <td>Disaster</td>\n",
       "      <td>06/02/1953</td>\n",
       "      <td>MI</td>\n",
       "      <td>NaN</td>\n",
       "      <td>Tornado</td>\n",
       "      <td>Tornado</td>\n",
       "      <td>06/02/1953</td>\n",
       "      <td>06/02/1953</td>\n",
       "      <td>02/01/1956</td>\n",
       "      <td>Yes</td>\n",
       "      <td>No</td>\n",
       "      <td>Yes</td>\n",
       "      <td>Yes</td>\n",
       "    </tr>\n",
       "    <tr>\n",
       "      <th>4</th>\n",
       "      <td>DR-5</td>\n",
       "      <td>Disaster</td>\n",
       "      <td>06/06/1953</td>\n",
       "      <td>MT</td>\n",
       "      <td>NaN</td>\n",
       "      <td>Flood</td>\n",
       "      <td>Floods</td>\n",
       "      <td>06/06/1953</td>\n",
       "      <td>06/06/1953</td>\n",
       "      <td>12/01/1955</td>\n",
       "      <td>Yes</td>\n",
       "      <td>No</td>\n",
       "      <td>Yes</td>\n",
       "      <td>Yes</td>\n",
       "    </tr>\n",
       "  </tbody>\n",
       "</table>\n",
       "</div>"
      ],
      "text/plain": [
       "  Declaration Number Declaration Type Declaration Date State County  \\\n",
       "0               DR-1         Disaster       05/02/1953    GA    NaN   \n",
       "1               DR-2         Disaster       05/15/1953    TX    NaN   \n",
       "2               DR-3         Disaster       05/29/1953    LA    NaN   \n",
       "3               DR-4         Disaster       06/02/1953    MI    NaN   \n",
       "4               DR-5         Disaster       06/06/1953    MT    NaN   \n",
       "\n",
       "  Disaster Type              Disaster Title  Start Date    End Date  \\\n",
       "0       Tornado                     Tornado  05/02/1953  05/02/1953   \n",
       "1       Tornado  Tornado and Heavy Rainfall  05/15/1953  05/15/1953   \n",
       "2         Flood                       Flood  05/29/1953  05/29/1953   \n",
       "3       Tornado                     Tornado  06/02/1953  06/02/1953   \n",
       "4         Flood                      Floods  06/06/1953  06/06/1953   \n",
       "\n",
       "   Close Date Individual Assistance Program Individuals & Households Program  \\\n",
       "0  06/01/1954                           Yes                               No   \n",
       "1  01/01/1958                           Yes                               No   \n",
       "2  02/01/1960                           Yes                               No   \n",
       "3  02/01/1956                           Yes                               No   \n",
       "4  12/01/1955                           Yes                               No   \n",
       "\n",
       "  Public Assistance Program Hazard Mitigation Program  \n",
       "0                       Yes                       Yes  \n",
       "1                       Yes                       Yes  \n",
       "2                       Yes                       Yes  \n",
       "3                       Yes                       Yes  \n",
       "4                       Yes                       Yes  "
      ]
     },
     "execution_count": 26,
     "metadata": {},
     "output_type": "execute_result"
    }
   ],
   "source": [
    "data = pd.read_csv('database.csv')\n",
    "data.head()"
   ]
  },
  {
   "cell_type": "code",
   "execution_count": 12,
   "metadata": {},
   "outputs": [
    {
     "data": {
      "text/plain": [
       "(46185, 14)"
      ]
     },
     "execution_count": 12,
     "metadata": {},
     "output_type": "execute_result"
    }
   ],
   "source": [
    "data.shape"
   ]
  },
  {
   "cell_type": "code",
   "execution_count": 13,
   "metadata": {},
   "outputs": [
    {
     "data": {
      "text/plain": [
       "Declaration Number                      0\n",
       "Declaration Type                        0\n",
       "Declaration Date                        0\n",
       "State                                   0\n",
       "County                                197\n",
       "Disaster Type                           0\n",
       "Disaster Title                          0\n",
       "Start Date                              0\n",
       "End Date                              342\n",
       "Close Date                          10975\n",
       "Individual Assistance Program           0\n",
       "Individuals & Households Program        0\n",
       "Public Assistance Program               0\n",
       "Hazard Mitigation Program               0\n",
       "dtype: int64"
      ]
     },
     "execution_count": 13,
     "metadata": {},
     "output_type": "execute_result"
    }
   ],
   "source": [
    "data.isnull().sum()"
   ]
  },
  {
   "cell_type": "code",
   "execution_count": 27,
   "metadata": {},
   "outputs": [
    {
     "data": {
      "text/html": [
       "<div>\n",
       "<style>\n",
       "    .dataframe thead tr:only-child th {\n",
       "        text-align: right;\n",
       "    }\n",
       "\n",
       "    .dataframe thead th {\n",
       "        text-align: left;\n",
       "    }\n",
       "\n",
       "    .dataframe tbody tr th {\n",
       "        vertical-align: top;\n",
       "    }\n",
       "</style>\n",
       "<table border=\"1\" class=\"dataframe\">\n",
       "  <thead>\n",
       "    <tr style=\"text-align: right;\">\n",
       "      <th></th>\n",
       "      <th>Declaration Number</th>\n",
       "      <th>Declaration Type</th>\n",
       "      <th>State</th>\n",
       "      <th>County</th>\n",
       "      <th>Disaster Type</th>\n",
       "      <th>Disaster Title</th>\n",
       "      <th>Start Date</th>\n",
       "      <th>End Date</th>\n",
       "      <th>Individual Assistance Program</th>\n",
       "      <th>Individuals &amp; Households Program</th>\n",
       "      <th>Public Assistance Program</th>\n",
       "      <th>Hazard Mitigation Program</th>\n",
       "    </tr>\n",
       "  </thead>\n",
       "  <tbody>\n",
       "    <tr>\n",
       "      <th>0</th>\n",
       "      <td>DR-1</td>\n",
       "      <td>Disaster</td>\n",
       "      <td>GA</td>\n",
       "      <td>NaN</td>\n",
       "      <td>Tornado</td>\n",
       "      <td>Tornado</td>\n",
       "      <td>05/02/1953</td>\n",
       "      <td>05/02/1953</td>\n",
       "      <td>Yes</td>\n",
       "      <td>No</td>\n",
       "      <td>Yes</td>\n",
       "      <td>Yes</td>\n",
       "    </tr>\n",
       "    <tr>\n",
       "      <th>1</th>\n",
       "      <td>DR-2</td>\n",
       "      <td>Disaster</td>\n",
       "      <td>TX</td>\n",
       "      <td>NaN</td>\n",
       "      <td>Tornado</td>\n",
       "      <td>Tornado and Heavy Rainfall</td>\n",
       "      <td>05/15/1953</td>\n",
       "      <td>05/15/1953</td>\n",
       "      <td>Yes</td>\n",
       "      <td>No</td>\n",
       "      <td>Yes</td>\n",
       "      <td>Yes</td>\n",
       "    </tr>\n",
       "    <tr>\n",
       "      <th>2</th>\n",
       "      <td>DR-3</td>\n",
       "      <td>Disaster</td>\n",
       "      <td>LA</td>\n",
       "      <td>NaN</td>\n",
       "      <td>Flood</td>\n",
       "      <td>Flood</td>\n",
       "      <td>05/29/1953</td>\n",
       "      <td>05/29/1953</td>\n",
       "      <td>Yes</td>\n",
       "      <td>No</td>\n",
       "      <td>Yes</td>\n",
       "      <td>Yes</td>\n",
       "    </tr>\n",
       "    <tr>\n",
       "      <th>3</th>\n",
       "      <td>DR-4</td>\n",
       "      <td>Disaster</td>\n",
       "      <td>MI</td>\n",
       "      <td>NaN</td>\n",
       "      <td>Tornado</td>\n",
       "      <td>Tornado</td>\n",
       "      <td>06/02/1953</td>\n",
       "      <td>06/02/1953</td>\n",
       "      <td>Yes</td>\n",
       "      <td>No</td>\n",
       "      <td>Yes</td>\n",
       "      <td>Yes</td>\n",
       "    </tr>\n",
       "    <tr>\n",
       "      <th>4</th>\n",
       "      <td>DR-5</td>\n",
       "      <td>Disaster</td>\n",
       "      <td>MT</td>\n",
       "      <td>NaN</td>\n",
       "      <td>Flood</td>\n",
       "      <td>Floods</td>\n",
       "      <td>06/06/1953</td>\n",
       "      <td>06/06/1953</td>\n",
       "      <td>Yes</td>\n",
       "      <td>No</td>\n",
       "      <td>Yes</td>\n",
       "      <td>Yes</td>\n",
       "    </tr>\n",
       "  </tbody>\n",
       "</table>\n",
       "</div>"
      ],
      "text/plain": [
       "  Declaration Number Declaration Type State County Disaster Type  \\\n",
       "0               DR-1         Disaster    GA    NaN       Tornado   \n",
       "1               DR-2         Disaster    TX    NaN       Tornado   \n",
       "2               DR-3         Disaster    LA    NaN         Flood   \n",
       "3               DR-4         Disaster    MI    NaN       Tornado   \n",
       "4               DR-5         Disaster    MT    NaN         Flood   \n",
       "\n",
       "               Disaster Title  Start Date    End Date  \\\n",
       "0                     Tornado  05/02/1953  05/02/1953   \n",
       "1  Tornado and Heavy Rainfall  05/15/1953  05/15/1953   \n",
       "2                       Flood  05/29/1953  05/29/1953   \n",
       "3                     Tornado  06/02/1953  06/02/1953   \n",
       "4                      Floods  06/06/1953  06/06/1953   \n",
       "\n",
       "  Individual Assistance Program Individuals & Households Program  \\\n",
       "0                           Yes                               No   \n",
       "1                           Yes                               No   \n",
       "2                           Yes                               No   \n",
       "3                           Yes                               No   \n",
       "4                           Yes                               No   \n",
       "\n",
       "  Public Assistance Program Hazard Mitigation Program  \n",
       "0                       Yes                       Yes  \n",
       "1                       Yes                       Yes  \n",
       "2                       Yes                       Yes  \n",
       "3                       Yes                       Yes  \n",
       "4                       Yes                       Yes  "
      ]
     },
     "execution_count": 27,
     "metadata": {},
     "output_type": "execute_result"
    }
   ],
   "source": [
    "data = data.drop('Close Date',axis=1)\n",
    "data = data.drop('Declaration Date',axis=1)\n",
    "data.head()"
   ]
  },
  {
   "cell_type": "code",
   "execution_count": 31,
   "metadata": {},
   "outputs": [
    {
     "data": {
      "text/plain": [
       "array(['Tornado', 'Flood', 'Fire', 'Other', 'Earthquake', 'Hurricane',\n",
       "       'Volcano', 'Storm', 'Chemical', 'Typhoon', 'Drought',\n",
       "       'Dam/Levee Break', 'Snow', 'Ice', 'Winter', 'Water',\n",
       "       'Mud/Landslide', 'Human Cause', 'Terrorism', 'Tsunami'], dtype=object)"
      ]
     },
     "execution_count": 31,
     "metadata": {},
     "output_type": "execute_result"
    }
   ],
   "source": [
    "data['Disaster Type'].unique()"
   ]
  },
  {
   "cell_type": "code",
   "execution_count": 35,
   "metadata": {},
   "outputs": [
    {
     "data": {
      "image/png": "[encoded data removed]",
      "text/plain": [
       "<matplotlib.figure.Figure at 0x25459fbf160>"
      ]
     },
     "metadata": {},
     "output_type": "display_data"
    }
   ],
   "source": [
    "typeof = data['Disaster Type'].value_counts()\n",
    "sns.barplot(typeof.index, typeof.values, alpha=0.8)\n",
    "plt.xticks(rotation='vertical')\n",
    "plt.xlabel('Name of the Artist', fontsize=14)\n",
    "plt.ylabel('Number of #1 Hits on Chart', fontsize=14)\n",
    "plt.title(\"Top Rated Artists\", fontsize=16)\n",
    "plt.show()"
   ]
  },
  {
   "cell_type": "markdown",
   "metadata": {},
   "source": [
    "### Storm is the most common disaster in the US followed by flood"
   ]
  },
  {
   "cell_type": "code",
   "execution_count": 98,
   "metadata": {
    "collapsed": true
   },
   "outputs": [],
   "source": [
    "Type = data['Declaration Type'].value_counts()"
   ]
  },
  {
   "cell_type": "code",
   "execution_count": 117,
   "metadata": {
    "collapsed": true
   },
   "outputs": [],
   "source": [
    "value = Type.values\n",
    "v=[]\n",
    "for i in range(0,len(value)):\n",
    "             v.append(float(value[i]))"
   ]
  },
  {
   "cell_type": "code",
   "execution_count": 122,
   "metadata": {
    "collapsed": true
   },
   "outputs": [],
   "source": [
    "ind = Type.index\n",
    "io=[]\n",
    "for i in range(0,len(ind)):\n",
    "    io.append(str(ind[i]))\n"
   ]
  },
  {
   "cell_type": "code",
   "execution_count": 118,
   "metadata": {},
   "outputs": [
    {
     "data": {
      "text/plain": [
       "[33630.0, 11520.0, 1035.0]"
      ]
     },
     "execution_count": 118,
     "metadata": {},
     "output_type": "execute_result"
    }
   ],
   "source": [
    "v"
   ]
  },
  {
   "cell_type": "code",
   "execution_count": 123,
   "metadata": {},
   "outputs": [
    {
     "data": {
      "text/plain": [
       "['Disaster', 'Emergency', 'Fire']"
      ]
     },
     "execution_count": 123,
     "metadata": {},
     "output_type": "execute_result"
    }
   ],
   "source": [
    "io"
   ]
  },
  {
   "cell_type": "code",
   "execution_count": 133,
   "metadata": {},
   "outputs": [
    {
     "data": {
      "image/png": "[encoded data removed]",
      "text/plain": [
       "<matplotlib.figure.Figure at 0x2545f929da0>"
      ]
     },
     "metadata": {},
     "output_type": "display_data"
    }
   ],
   "source": [
    "colors = ['yellowgreen', 'gold', 'lightskyblue']\n",
    "explode = (0.1, 0, 0)\n",
    "plt.pie(v, explode=explode, labels=io, colors=colors, shadow=True, startangle=90)\n",
    "plt.legend(title=\"Disaster type\")\n",
    "plt.axis('equal')\n",
    "plt.show()"
   ]
  },
  {
   "cell_type": "markdown",
   "metadata": {},
   "source": [
    "## Disaster calls are more than emergency class in the United states"
   ]
  },
  {
   "cell_type": "code",
   "execution_count": 196,
   "metadata": {},
   "outputs": [
    {
     "data": {
      "text/plain": [
       "59"
      ]
     },
     "execution_count": 196,
     "metadata": {},
     "output_type": "execute_result"
    }
   ],
   "source": [
    "s = data['State'].unique()\n",
    "len(s)"
   ]
  },
  {
   "cell_type": "code",
   "execution_count": 198,
   "metadata": {},
   "outputs": [
    {
     "data": {
      "text/plain": [
       "array(['GA', 'TX', 'LA', 'MI', 'MT', 'MA', 'IA', 'NH', 'FL', 'AK', 'MS',\n",
       "       'CA', 'NV', 'SD', 'WV', 'RI', 'ME', 'CT', 'NY', 'NM', 'NC', 'SC',\n",
       "       'IN', 'HI', 'CO', 'KS', 'OK', 'PA', 'NJ', 'OR', 'WA', 'ID', 'OH',\n",
       "       'PR', 'KY', 'VA', 'MO', 'AR', 'IL', 'ND', 'MN', 'NE', 'AL', 'DE',\n",
       "       'MD', 'GU', 'TN', 'FM', 'WY', 'VT', 'VI', 'WI', 'AS', 'AZ', 'PW',\n",
       "       'MP', 'UT', 'MH', 'DC'], dtype=object)"
      ]
     },
     "execution_count": 198,
     "metadata": {},
     "output_type": "execute_result"
    }
   ],
   "source": [
    "data['State'].unique()"
   ]
  },
  {
   "cell_type": "code",
   "execution_count": 25,
   "metadata": {},
   "outputs": [
    {
     "data": {
      "text/html": [
       "<div>\n",
       "<style>\n",
       "    .dataframe thead tr:only-child th {\n",
       "        text-align: right;\n",
       "    }\n",
       "\n",
       "    .dataframe thead th {\n",
       "        text-align: left;\n",
       "    }\n",
       "\n",
       "    .dataframe tbody tr th {\n",
       "        vertical-align: top;\n",
       "    }\n",
       "</style>\n",
       "<table border=\"1\" class=\"dataframe\">\n",
       "  <thead>\n",
       "    <tr style=\"text-align: right;\">\n",
       "      <th></th>\n",
       "      <th>Declaration Number</th>\n",
       "      <th>Declaration Type</th>\n",
       "      <th>Declaration Date</th>\n",
       "      <th>State</th>\n",
       "      <th>County</th>\n",
       "      <th>Disaster Type</th>\n",
       "      <th>Disaster Title</th>\n",
       "      <th>Start Date</th>\n",
       "      <th>End Date</th>\n",
       "      <th>Individual Assistance Program</th>\n",
       "      <th>Individuals &amp; Households Program</th>\n",
       "      <th>Public Assistance Program</th>\n",
       "      <th>Hazard Mitigation Program</th>\n",
       "    </tr>\n",
       "  </thead>\n",
       "  <tbody>\n",
       "    <tr>\n",
       "      <th>0</th>\n",
       "      <td>DR-1</td>\n",
       "      <td>Disaster</td>\n",
       "      <td>05/02/1953</td>\n",
       "      <td>GA</td>\n",
       "      <td>NaN</td>\n",
       "      <td>Tornado</td>\n",
       "      <td>Tornado</td>\n",
       "      <td>05/02/1953</td>\n",
       "      <td>05/02/1953</td>\n",
       "      <td>Yes</td>\n",
       "      <td>No</td>\n",
       "      <td>Yes</td>\n",
       "      <td>Yes</td>\n",
       "    </tr>\n",
       "    <tr>\n",
       "      <th>1</th>\n",
       "      <td>DR-2</td>\n",
       "      <td>Disaster</td>\n",
       "      <td>05/15/1953</td>\n",
       "      <td>TX</td>\n",
       "      <td>NaN</td>\n",
       "      <td>Tornado</td>\n",
       "      <td>Tornado and Heavy Rainfall</td>\n",
       "      <td>05/15/1953</td>\n",
       "      <td>05/15/1953</td>\n",
       "      <td>Yes</td>\n",
       "      <td>No</td>\n",
       "      <td>Yes</td>\n",
       "      <td>Yes</td>\n",
       "    </tr>\n",
       "    <tr>\n",
       "      <th>2</th>\n",
       "      <td>DR-3</td>\n",
       "      <td>Disaster</td>\n",
       "      <td>05/29/1953</td>\n",
       "      <td>LA</td>\n",
       "      <td>NaN</td>\n",
       "      <td>Flood</td>\n",
       "      <td>Flood</td>\n",
       "      <td>05/29/1953</td>\n",
       "      <td>05/29/1953</td>\n",
       "      <td>Yes</td>\n",
       "      <td>No</td>\n",
       "      <td>Yes</td>\n",
       "      <td>Yes</td>\n",
       "    </tr>\n",
       "    <tr>\n",
       "      <th>3</th>\n",
       "      <td>DR-4</td>\n",
       "      <td>Disaster</td>\n",
       "      <td>06/02/1953</td>\n",
       "      <td>MI</td>\n",
       "      <td>NaN</td>\n",
       "      <td>Tornado</td>\n",
       "      <td>Tornado</td>\n",
       "      <td>06/02/1953</td>\n",
       "      <td>06/02/1953</td>\n",
       "      <td>Yes</td>\n",
       "      <td>No</td>\n",
       "      <td>Yes</td>\n",
       "      <td>Yes</td>\n",
       "    </tr>\n",
       "    <tr>\n",
       "      <th>4</th>\n",
       "      <td>DR-5</td>\n",
       "      <td>Disaster</td>\n",
       "      <td>06/06/1953</td>\n",
       "      <td>MT</td>\n",
       "      <td>NaN</td>\n",
       "      <td>Flood</td>\n",
       "      <td>Floods</td>\n",
       "      <td>06/06/1953</td>\n",
       "      <td>06/06/1953</td>\n",
       "      <td>Yes</td>\n",
       "      <td>No</td>\n",
       "      <td>Yes</td>\n",
       "      <td>Yes</td>\n",
       "    </tr>\n",
       "  </tbody>\n",
       "</table>\n",
       "</div>"
      ],
      "text/plain": [
       "  Declaration Number Declaration Type Declaration Date State County  \\\n",
       "0               DR-1         Disaster       05/02/1953    GA    NaN   \n",
       "1               DR-2         Disaster       05/15/1953    TX    NaN   \n",
       "2               DR-3         Disaster       05/29/1953    LA    NaN   \n",
       "3               DR-4         Disaster       06/02/1953    MI    NaN   \n",
       "4               DR-5         Disaster       06/06/1953    MT    NaN   \n",
       "\n",
       "  Disaster Type              Disaster Title  Start Date    End Date  \\\n",
       "0       Tornado                     Tornado  05/02/1953  05/02/1953   \n",
       "1       Tornado  Tornado and Heavy Rainfall  05/15/1953  05/15/1953   \n",
       "2         Flood                       Flood  05/29/1953  05/29/1953   \n",
       "3       Tornado                     Tornado  06/02/1953  06/02/1953   \n",
       "4         Flood                      Floods  06/06/1953  06/06/1953   \n",
       "\n",
       "  Individual Assistance Program Individuals & Households Program  \\\n",
       "0                           Yes                               No   \n",
       "1                           Yes                               No   \n",
       "2                           Yes                               No   \n",
       "3                           Yes                               No   \n",
       "4                           Yes                               No   \n",
       "\n",
       "  Public Assistance Program Hazard Mitigation Program  \n",
       "0                       Yes                       Yes  \n",
       "1                       Yes                       Yes  \n",
       "2                       Yes                       Yes  \n",
       "3                       Yes                       Yes  \n",
       "4                       Yes                       Yes  "
      ]
     },
     "execution_count": 25,
     "metadata": {},
     "output_type": "execute_result"
    }
   ],
   "source": [
    "data = data.drop('Close Date',axis=1)\n",
    "data.head()"
   ]
  },
  {
   "cell_type": "code",
   "execution_count": 20,
   "metadata": {
    "collapsed": true
   },
   "outputs": [],
   "source": [
    "text= 'LA'"
   ]
  },
  {
   "cell_type": "code",
   "execution_count": 21,
   "metadata": {},
   "outputs": [
    {
     "data": {
      "image/png": "[encoded data removed]",
      "text/plain": [
       "<matplotlib.figure.Figure at 0x2770007beb8>"
      ]
     },
     "metadata": {},
     "output_type": "display_data"
    }
   ],
   "source": [
    "la = data[(data['State'] == text)]\n",
    "dis=la['Disaster Type'].value_counts()\n",
    "sns.barplot(dis.index, dis.values, alpha=0.8)\n",
    "plt.xlabel('Type of disaster', fontsize=14)\n",
    "plt.ylabel('Number os disasters', fontsize=14)\n",
    "plt.title(text, fontsize=16)\n",
    "plt.show()"
   ]
  },
  {
   "cell_type": "code",
   "execution_count": 4,
   "metadata": {
    "collapsed": true
   },
   "outputs": [],
   "source": [
    "from io import BytesIO\n"
   ]
  },
  {
   "cell_type": "code",
   "execution_count": 180,
   "metadata": {},
   "outputs": [
    {
     "name": "stdout",
     "output_type": "stream",
     "text": [
      "Hi i am hero\n"
     ]
    }
   ],
   "source": [
    "print(f'Hi i am {k}')"
   ]
  },
  {
   "cell_type": "code",
   "execution_count": 24,
   "metadata": {},
   "outputs": [
    {
     "name": "stderr",
     "output_type": "stream",
     "text": [
      " * Running on http://127.0.0.1:5000/ (Press CTRL+C to quit)\n",
      "127.0.0.1 - - [30/Mar/2018 19:28:21] \"GET / HTTP/1.1\" 200 -\n",
      "127.0.0.1 - - [30/Mar/2018 19:28:24] \"POST / HTTP/1.1\" 200 -\n"
     ]
    }
   ],
   "source": [
    "from flask import Flask\n",
    "from flask import request\n",
    "from flask import render_template\n",
    "from textblob import TextBlob\n",
    "from io import StringIO\n",
    "from io import BytesIO\n",
    "\n",
    "import pandas as pd\n",
    "import matplotlib.pyplot as plt\n",
    "import seaborn as sns\n",
    "import base64\n",
    "app = Flask(__name__)\n",
    "\n",
    "@app.route('/')\n",
    "def my_form():\n",
    "    return render_template(\"index.html\")\n",
    "\n",
    "@app.route('/', methods=['POST'])\n",
    "def my_form_post():\n",
    "\n",
    "    text = request.form['text']\n",
    "    text = str(text)\n",
    "    data = pd.read_csv('database.csv')\n",
    "    img = BytesIO()\n",
    "    la = data[(data['State'] == text)]\n",
    "    dis=la['Disaster Type'].value_counts()\n",
    "    sns.barplot(dis.index, dis.values, alpha=0.8)\n",
    "    plt.xlabel('Type of disaster', fontsize=14)\n",
    "    plt.xticks(rotation='vertical')\n",
    "    plt.ylabel('Number os disasters', fontsize=14)\n",
    "    plt.title(text, fontsize=16)\n",
    "    plt.savefig(img, format='png')\n",
    "    img.seek(0)\n",
    "\n",
    "    plot_url = base64.b64encode(img.getvalue()).decode()\n",
    "    return '<img src=\"data:image/png;base64,{}\" align=\"middle\">'.format(plot_url)\n",
    "\n",
    "if __name__ == '__main__':\n",
    "    app.run()"
   ]
  }
 ],
 "metadata": {
  "kernelspec": {
   "display_name": "Python 3",
   "language": "python",
   "name": "python3"
  },
  "language_info": {
   "codemirror_mode": {
    "name": "ipython",
    "version": 3
   },
   "file_extension": ".py",
   "mimetype": "text/x-python",
   "name": "python",
   "nbconvert_exporter": "python",
   "pygments_lexer": "ipython3",
   "version": "3.6.3"
  }
 },
 "nbformat": 4,
 "nbformat_minor": 2
}
